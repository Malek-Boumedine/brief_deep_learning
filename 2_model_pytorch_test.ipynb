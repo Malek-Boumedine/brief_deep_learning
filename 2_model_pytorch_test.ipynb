{
 "cells": [
  {
   "cell_type": "code",
   "execution_count": 323,
   "id": "af97c3f0",
   "metadata": {},
   "outputs": [],
   "source": [
    "import pandas as pd\n",
    "import numpy as np"
   ]
  },
  {
   "cell_type": "code",
   "execution_count": 324,
   "id": "e56780ee",
   "metadata": {},
   "outputs": [],
   "source": [
    "# afficher les résultats en entier\n",
    "pd.set_option('display.max_row',100)\n",
    "pd.set_option('display.max_column', 50)"
   ]
  },
  {
   "cell_type": "markdown",
   "id": "88817b23",
   "metadata": {},
   "source": [
    "## Nettoyage des données et analyse descriptive"
   ]
  },
  {
   "cell_type": "code",
   "execution_count": 325,
   "id": "82f9164e",
   "metadata": {},
   "outputs": [],
   "source": [
    "# Chargement du fichier csv\n",
    "df = pd.read_csv(\"WA_Fn-UseC_-Telco-Customer-Churn.csv\")"
   ]
  },
  {
   "cell_type": "code",
   "execution_count": 326,
   "id": "60237e75",
   "metadata": {},
   "outputs": [
    {
     "name": "stdout",
     "output_type": "stream",
     "text": [
      "<class 'pandas.core.frame.DataFrame'>\n",
      "RangeIndex: 7043 entries, 0 to 7042\n",
      "Data columns (total 21 columns):\n",
      " #   Column            Non-Null Count  Dtype  \n",
      "---  ------            --------------  -----  \n",
      " 0   customerID        7043 non-null   object \n",
      " 1   gender            7043 non-null   object \n",
      " 2   SeniorCitizen     7043 non-null   int64  \n",
      " 3   Partner           7043 non-null   object \n",
      " 4   Dependents        7043 non-null   object \n",
      " 5   tenure            7043 non-null   int64  \n",
      " 6   PhoneService      7043 non-null   object \n",
      " 7   MultipleLines     7043 non-null   object \n",
      " 8   InternetService   7043 non-null   object \n",
      " 9   OnlineSecurity    7043 non-null   object \n",
      " 10  OnlineBackup      7043 non-null   object \n",
      " 11  DeviceProtection  7043 non-null   object \n",
      " 12  TechSupport       7043 non-null   object \n",
      " 13  StreamingTV       7043 non-null   object \n",
      " 14  StreamingMovies   7043 non-null   object \n",
      " 15  Contract          7043 non-null   object \n",
      " 16  PaperlessBilling  7043 non-null   object \n",
      " 17  PaymentMethod     7043 non-null   object \n",
      " 18  MonthlyCharges    7043 non-null   float64\n",
      " 19  TotalCharges      7032 non-null   float64\n",
      " 20  Churn             7043 non-null   object \n",
      "dtypes: float64(2), int64(2), object(17)\n",
      "memory usage: 1.1+ MB\n"
     ]
    }
   ],
   "source": [
    "# Visualisation des variables, des valeurs nulles et des types\n",
    "df.info()"
   ]
  },
  {
   "cell_type": "code",
   "execution_count": 327,
   "id": "c9bf7d01",
   "metadata": {},
   "outputs": [],
   "source": [
    "# supprimer les lignes avec la variable \"TotalCharges\" nulle\n",
    "df.dropna(subset=[\"TotalCharges\"], inplace=True)"
   ]
  },
  {
   "cell_type": "code",
   "execution_count": 328,
   "id": "3c24a3f7",
   "metadata": {},
   "outputs": [
    {
     "data": {
      "text/plain": [
       "customerID          0\n",
       "gender              0\n",
       "SeniorCitizen       0\n",
       "Partner             0\n",
       "Dependents          0\n",
       "tenure              0\n",
       "PhoneService        0\n",
       "MultipleLines       0\n",
       "InternetService     0\n",
       "OnlineSecurity      0\n",
       "OnlineBackup        0\n",
       "DeviceProtection    0\n",
       "TechSupport         0\n",
       "StreamingTV         0\n",
       "StreamingMovies     0\n",
       "Contract            0\n",
       "PaperlessBilling    0\n",
       "PaymentMethod       0\n",
       "MonthlyCharges      0\n",
       "TotalCharges        0\n",
       "Churn               0\n",
       "dtype: int64"
      ]
     },
     "execution_count": 328,
     "metadata": {},
     "output_type": "execute_result"
    }
   ],
   "source": [
    "# détection des valeurs manquantes\n",
    "df.isnull().sum()"
   ]
  },
  {
   "cell_type": "code",
   "execution_count": 329,
   "id": "6703fbd7",
   "metadata": {},
   "outputs": [
    {
     "name": "stdout",
     "output_type": "stream",
     "text": [
      "customerID:\n",
      "['7590-VHVEG' '5575-GNVDE' '3668-QPYBK' ... '4801-JZAZL' '8361-LTMKD'\n",
      " '3186-AJIEK']\n",
      "gender:\n",
      "['Female' 'Male']\n",
      "SeniorCitizen:\n",
      "[0 1]\n",
      "Partner:\n",
      "['Yes' 'No']\n",
      "Dependents:\n",
      "['No' 'Yes']\n",
      "tenure:\n",
      "[ 1 34  2 45  8 22 10 28 62 13 16 58 49 25 69 52 71 21 12 30 47 72 17 27\n",
      "  5 46 11 70 63 43 15 60 18 66  9  3 31 50 64 56  7 42 35 48 29 65 38 68\n",
      " 32 55 37 36 41  6  4 33 67 23 57 61 14 20 53 40 59 24 44 19 54 51 26 39]\n",
      "PhoneService:\n",
      "['No' 'Yes']\n",
      "MultipleLines:\n",
      "['No phone service' 'No' 'Yes']\n",
      "InternetService:\n",
      "['DSL' 'Fiber optic' 'No']\n",
      "OnlineSecurity:\n",
      "['No' 'Yes' 'No internet service']\n",
      "OnlineBackup:\n",
      "['Yes' 'No' 'No internet service']\n",
      "DeviceProtection:\n",
      "['No' 'Yes' 'No internet service']\n",
      "TechSupport:\n",
      "['No' 'Yes' 'No internet service']\n",
      "StreamingTV:\n",
      "['No' 'Yes' 'No internet service']\n",
      "StreamingMovies:\n",
      "['No' 'Yes' 'No internet service']\n",
      "Contract:\n",
      "['Month-to-month' 'One year' 'Two year']\n",
      "PaperlessBilling:\n",
      "['Yes' 'No']\n",
      "PaymentMethod:\n",
      "['Electronic check' 'Mailed check' 'Bank transfer (automatic)'\n",
      " 'Credit card (automatic)']\n",
      "MonthlyCharges:\n",
      "[29.85 56.95 53.85 ... 63.1  44.2  78.7 ]\n",
      "TotalCharges:\n",
      "[  29.85 1889.5   108.15 ...  346.45  306.6  6844.5 ]\n",
      "Churn:\n",
      "['No' 'Yes']\n"
     ]
    }
   ],
   "source": [
    "# Visualisation des valeurs de chaque variable\n",
    "for field in df:\n",
    "    print(f\"{field}:\")\n",
    "    print(df[f\"{field}\"].unique())"
   ]
  },
  {
   "cell_type": "code",
   "execution_count": 330,
   "id": "79f73749",
   "metadata": {},
   "outputs": [],
   "source": [
    "# Suppression de la colonne \"customerID\" car non nécessaire\n",
    "df.drop(columns=[\"customerID\"], inplace=True)"
   ]
  },
  {
   "cell_type": "code",
   "execution_count": 331,
   "id": "51c32a0b",
   "metadata": {},
   "outputs": [
    {
     "name": "stdout",
     "output_type": "stream",
     "text": [
      "<class 'pandas.core.frame.DataFrame'>\n",
      "Index: 7032 entries, 0 to 7042\n",
      "Data columns (total 20 columns):\n",
      " #   Column            Non-Null Count  Dtype  \n",
      "---  ------            --------------  -----  \n",
      " 0   gender            7032 non-null   object \n",
      " 1   SeniorCitizen     7032 non-null   int64  \n",
      " 2   Partner           7032 non-null   object \n",
      " 3   Dependents        7032 non-null   object \n",
      " 4   tenure            7032 non-null   int64  \n",
      " 5   PhoneService      7032 non-null   object \n",
      " 6   MultipleLines     7032 non-null   object \n",
      " 7   InternetService   7032 non-null   object \n",
      " 8   OnlineSecurity    7032 non-null   object \n",
      " 9   OnlineBackup      7032 non-null   object \n",
      " 10  DeviceProtection  7032 non-null   object \n",
      " 11  TechSupport       7032 non-null   object \n",
      " 12  StreamingTV       7032 non-null   object \n",
      " 13  StreamingMovies   7032 non-null   object \n",
      " 14  Contract          7032 non-null   object \n",
      " 15  PaperlessBilling  7032 non-null   object \n",
      " 16  PaymentMethod     7032 non-null   object \n",
      " 17  MonthlyCharges    7032 non-null   float64\n",
      " 18  TotalCharges      7032 non-null   float64\n",
      " 19  Churn             7032 non-null   object \n",
      "dtypes: float64(2), int64(2), object(16)\n",
      "memory usage: 1.1+ MB\n"
     ]
    }
   ],
   "source": [
    "df.info()"
   ]
  },
  {
   "cell_type": "markdown",
   "id": "3680c5b3",
   "metadata": {},
   "source": [
    "## Pré-traitement des données"
   ]
  },
  {
   "cell_type": "code",
   "execution_count": 332,
   "id": "be180cee",
   "metadata": {},
   "outputs": [],
   "source": [
    "# import des librairies pour le feature engineering\n",
    "from sklearn.preprocessing import StandardScaler, OneHotEncoder, LabelEncoder"
   ]
  },
  {
   "cell_type": "code",
   "execution_count": 333,
   "id": "a62bf2c2",
   "metadata": {},
   "outputs": [],
   "source": [
    "# Encodage de la variable 'Churn' (future target), avec 'No' = 0 et 'Yes'= 1, conversion de type en 'int'\n",
    "#df['Churn'] = df['Churn'].map({\"No\": 0, \"Yes\": 1})\n",
    "# df.loc[df['Churn'].isin([\"No\"]), 'Churn'] = 0\n",
    "# df.loc[df['Churn'].isin([\"Yes\"]), 'Churn'] = 1\n",
    "# df['Churn'] = df['Churn'].astype(int)\n",
    "df['Churn'] = df['Churn'].map({'Yes': 1, 'No': 0})"
   ]
  },
  {
   "cell_type": "code",
   "execution_count": 334,
   "id": "84dbda85",
   "metadata": {},
   "outputs": [
    {
     "data": {
      "text/plain": [
       "Churn\n",
       "0    0.734215\n",
       "1    0.265785\n",
       "Name: proportion, dtype: float64"
      ]
     },
     "execution_count": 334,
     "metadata": {},
     "output_type": "execute_result"
    }
   ],
   "source": [
    "df['Churn'].value_counts(normalize=True)"
   ]
  },
  {
   "cell_type": "code",
   "execution_count": 335,
   "id": "74d44201",
   "metadata": {},
   "outputs": [
    {
     "data": {
      "text/plain": [
       "Index(['SeniorCitizen', 'tenure', 'MonthlyCharges'], dtype='object')"
      ]
     },
     "execution_count": 335,
     "metadata": {},
     "output_type": "execute_result"
    }
   ],
   "source": [
    "# Identification des variables numériques et catégorielles de la variable X pour le pré-traitement\n",
    "numerical_features = df.select_dtypes(include=['int64', 'float64']).columns\n",
    "categorical_features = df.select_dtypes(include=['object']).columns\n",
    "\n",
    "# suppression de la variable \"Churn\" de numerical_features car ce n'est pas une feature\n",
    "numerical_features = numerical_features[:3]\n",
    "numerical_features"
   ]
  },
  {
   "cell_type": "code",
   "execution_count": 336,
   "id": "a3ee6553",
   "metadata": {},
   "outputs": [
    {
     "name": "stdout",
     "output_type": "stream",
     "text": [
      "Index(['gender', 'Partner', 'Dependents', 'PhoneService', 'MultipleLines',\n",
      "       'InternetService', 'OnlineSecurity', 'OnlineBackup', 'DeviceProtection',\n",
      "       'TechSupport', 'StreamingTV', 'StreamingMovies', 'Contract',\n",
      "       'PaperlessBilling', 'PaymentMethod'],\n",
      "      dtype='object')\n",
      "\n",
      "Index(['SeniorCitizen', 'tenure', 'MonthlyCharges'], dtype='object')\n"
     ]
    }
   ],
   "source": [
    "print(categorical_features)\n",
    "print()\n",
    "print(numerical_features)"
   ]
  },
  {
   "cell_type": "code",
   "execution_count": 337,
   "id": "a35b7160",
   "metadata": {},
   "outputs": [],
   "source": [
    "# Encodage des colonnes catégorielles avec LabelEncoder\n",
    "for col in categorical_features:\n",
    "    encoder = LabelEncoder()\n",
    "    df[col] = encoder.fit_transform(df[col])"
   ]
  },
  {
   "cell_type": "code",
   "execution_count": 338,
   "id": "c55f31ca",
   "metadata": {},
   "outputs": [],
   "source": [
    "# Standardisation des colonnes numériques avec StandardScaler\n",
    "standard_scaler = StandardScaler()\n",
    "df[numerical_features] = standard_scaler.fit_transform(df[numerical_features])"
   ]
  },
  {
   "cell_type": "code",
   "execution_count": 339,
   "id": "f0b8d70c",
   "metadata": {},
   "outputs": [
    {
     "data": {
      "text/html": [
       "<div>\n",
       "<style scoped>\n",
       "    .dataframe tbody tr th:only-of-type {\n",
       "        vertical-align: middle;\n",
       "    }\n",
       "\n",
       "    .dataframe tbody tr th {\n",
       "        vertical-align: top;\n",
       "    }\n",
       "\n",
       "    .dataframe thead th {\n",
       "        text-align: right;\n",
       "    }\n",
       "</style>\n",
       "<table border=\"1\" class=\"dataframe\">\n",
       "  <thead>\n",
       "    <tr style=\"text-align: right;\">\n",
       "      <th></th>\n",
       "      <th>gender</th>\n",
       "      <th>SeniorCitizen</th>\n",
       "      <th>Partner</th>\n",
       "      <th>Dependents</th>\n",
       "      <th>tenure</th>\n",
       "      <th>PhoneService</th>\n",
       "      <th>MultipleLines</th>\n",
       "      <th>InternetService</th>\n",
       "      <th>OnlineSecurity</th>\n",
       "      <th>OnlineBackup</th>\n",
       "      <th>DeviceProtection</th>\n",
       "      <th>TechSupport</th>\n",
       "      <th>StreamingTV</th>\n",
       "      <th>StreamingMovies</th>\n",
       "      <th>Contract</th>\n",
       "      <th>PaperlessBilling</th>\n",
       "      <th>PaymentMethod</th>\n",
       "      <th>MonthlyCharges</th>\n",
       "      <th>TotalCharges</th>\n",
       "      <th>Churn</th>\n",
       "    </tr>\n",
       "  </thead>\n",
       "  <tbody>\n",
       "    <tr>\n",
       "      <th>158</th>\n",
       "      <td>1</td>\n",
       "      <td>-0.440327</td>\n",
       "      <td>1</td>\n",
       "      <td>1</td>\n",
       "      <td>-0.669089</td>\n",
       "      <td>1</td>\n",
       "      <td>0</td>\n",
       "      <td>0</td>\n",
       "      <td>2</td>\n",
       "      <td>0</td>\n",
       "      <td>2</td>\n",
       "      <td>0</td>\n",
       "      <td>2</td>\n",
       "      <td>0</td>\n",
       "      <td>2</td>\n",
       "      <td>0</td>\n",
       "      <td>3</td>\n",
       "      <td>-0.018223</td>\n",
       "      <td>1024.00</td>\n",
       "      <td>0</td>\n",
       "    </tr>\n",
       "    <tr>\n",
       "      <th>3754</th>\n",
       "      <td>1</td>\n",
       "      <td>-0.440327</td>\n",
       "      <td>0</td>\n",
       "      <td>0</td>\n",
       "      <td>-1.280248</td>\n",
       "      <td>1</td>\n",
       "      <td>0</td>\n",
       "      <td>2</td>\n",
       "      <td>1</td>\n",
       "      <td>1</td>\n",
       "      <td>1</td>\n",
       "      <td>1</td>\n",
       "      <td>1</td>\n",
       "      <td>1</td>\n",
       "      <td>0</td>\n",
       "      <td>0</td>\n",
       "      <td>3</td>\n",
       "      <td>-1.487450</td>\n",
       "      <td>20.05</td>\n",
       "      <td>0</td>\n",
       "    </tr>\n",
       "    <tr>\n",
       "      <th>5231</th>\n",
       "      <td>1</td>\n",
       "      <td>2.271039</td>\n",
       "      <td>1</td>\n",
       "      <td>0</td>\n",
       "      <td>-0.669089</td>\n",
       "      <td>1</td>\n",
       "      <td>2</td>\n",
       "      <td>1</td>\n",
       "      <td>0</td>\n",
       "      <td>0</td>\n",
       "      <td>2</td>\n",
       "      <td>0</td>\n",
       "      <td>2</td>\n",
       "      <td>2</td>\n",
       "      <td>0</td>\n",
       "      <td>1</td>\n",
       "      <td>2</td>\n",
       "      <td>1.128573</td>\n",
       "      <td>1587.55</td>\n",
       "      <td>1</td>\n",
       "    </tr>\n",
       "    <tr>\n",
       "      <th>6819</th>\n",
       "      <td>1</td>\n",
       "      <td>2.271039</td>\n",
       "      <td>0</td>\n",
       "      <td>0</td>\n",
       "      <td>0.919926</td>\n",
       "      <td>1</td>\n",
       "      <td>2</td>\n",
       "      <td>1</td>\n",
       "      <td>2</td>\n",
       "      <td>0</td>\n",
       "      <td>0</td>\n",
       "      <td>0</td>\n",
       "      <td>2</td>\n",
       "      <td>2</td>\n",
       "      <td>0</td>\n",
       "      <td>1</td>\n",
       "      <td>2</td>\n",
       "      <td>1.130235</td>\n",
       "      <td>5617.75</td>\n",
       "      <td>1</td>\n",
       "    </tr>\n",
       "    <tr>\n",
       "      <th>5119</th>\n",
       "      <td>0</td>\n",
       "      <td>-0.440327</td>\n",
       "      <td>0</td>\n",
       "      <td>0</td>\n",
       "      <td>-1.117272</td>\n",
       "      <td>1</td>\n",
       "      <td>0</td>\n",
       "      <td>1</td>\n",
       "      <td>0</td>\n",
       "      <td>0</td>\n",
       "      <td>0</td>\n",
       "      <td>2</td>\n",
       "      <td>0</td>\n",
       "      <td>0</td>\n",
       "      <td>0</td>\n",
       "      <td>1</td>\n",
       "      <td>3</td>\n",
       "      <td>0.360718</td>\n",
       "      <td>399.45</td>\n",
       "      <td>0</td>\n",
       "    </tr>\n",
       "  </tbody>\n",
       "</table>\n",
       "</div>"
      ],
      "text/plain": [
       "      gender  SeniorCitizen  Partner  Dependents    tenure  PhoneService  \\\n",
       "158        1      -0.440327        1           1 -0.669089             1   \n",
       "3754       1      -0.440327        0           0 -1.280248             1   \n",
       "5231       1       2.271039        1           0 -0.669089             1   \n",
       "6819       1       2.271039        0           0  0.919926             1   \n",
       "5119       0      -0.440327        0           0 -1.117272             1   \n",
       "\n",
       "      MultipleLines  InternetService  OnlineSecurity  OnlineBackup  \\\n",
       "158               0                0               2             0   \n",
       "3754              0                2               1             1   \n",
       "5231              2                1               0             0   \n",
       "6819              2                1               2             0   \n",
       "5119              0                1               0             0   \n",
       "\n",
       "      DeviceProtection  TechSupport  StreamingTV  StreamingMovies  Contract  \\\n",
       "158                  2            0            2                0         2   \n",
       "3754                 1            1            1                1         0   \n",
       "5231                 2            0            2                2         0   \n",
       "6819                 0            0            2                2         0   \n",
       "5119                 0            2            0                0         0   \n",
       "\n",
       "      PaperlessBilling  PaymentMethod  MonthlyCharges  TotalCharges  Churn  \n",
       "158                  0              3       -0.018223       1024.00      0  \n",
       "3754                 0              3       -1.487450         20.05      0  \n",
       "5231                 1              2        1.128573       1587.55      1  \n",
       "6819                 1              2        1.130235       5617.75      1  \n",
       "5119                 1              3        0.360718        399.45      0  "
      ]
     },
     "execution_count": 339,
     "metadata": {},
     "output_type": "execute_result"
    }
   ],
   "source": [
    "df.sample(5)"
   ]
  },
  {
   "cell_type": "markdown",
   "id": "85dc9eb4",
   "metadata": {},
   "source": [
    "## Implémentation du modèle de deep learning"
   ]
  },
  {
   "cell_type": "code",
   "execution_count": 340,
   "id": "09e57b95",
   "metadata": {},
   "outputs": [],
   "source": [
    "import torch\n",
    "import torch.nn as nn\n",
    "import torch.optim as optim\n",
    "from torch.utils.data import TensorDataset, DataLoader\n",
    "\n",
    "from sklearn.model_selection import train_test_split"
   ]
  },
  {
   "cell_type": "code",
   "execution_count": 341,
   "id": "898fe446",
   "metadata": {},
   "outputs": [],
   "source": [
    "# Séparation des features (X) de la target (y)\n",
    "\n",
    "# Filtrage des colonnes features\n",
    "features = df.iloc[:, 0:-1]\n",
    "# conversion de la variable features en array numpy (X) pour la manipulation avec Pytorch\n",
    "X = features.to_numpy()\n",
    "\n",
    "# Filtrage de la colonne target\n",
    "target = df.iloc[:, -1]\n",
    "# conversion de la variable target en array numpy (y) pour la manipulation avec Pytorch\n",
    "y = target.to_numpy()"
   ]
  },
  {
   "cell_type": "code",
   "execution_count": 342,
   "id": "c0578c74",
   "metadata": {},
   "outputs": [
    {
     "name": "stdout",
     "output_type": "stream",
     "text": [
      "features :  (7032, 19)\n",
      "X :  (7032, 19)\n",
      "target :  (7032,)\n",
      "y :  (7032,)\n"
     ]
    }
   ],
   "source": [
    "# Visualisation des variables créées\n",
    "print(\"features : \", features.shape)\n",
    "print(\"X : \", X.shape)\n",
    "print(\"target : \", target.shape)\n",
    "print(\"y : \", y.shape)"
   ]
  },
  {
   "cell_type": "code",
   "execution_count": 343,
   "id": "3dd78f34",
   "metadata": {},
   "outputs": [],
   "source": [
    "# Train / Test\n",
    "X_train, X_test, y_train, y_test = train_test_split(X, y, test_size=0.2, random_state=42)"
   ]
  },
  {
   "cell_type": "code",
   "execution_count": 344,
   "id": "26cf5653",
   "metadata": {},
   "outputs": [
    {
     "name": "stdout",
     "output_type": "stream",
     "text": [
      "X_train :  (5625, 19)\n",
      "y_train :  (5625,)\n",
      "X_test :  (1407, 19)\n",
      "y_test :  (1407,)\n"
     ]
    }
   ],
   "source": [
    "# Vérification\n",
    "print(\"X_train : \", X_train.shape)\n",
    "print(\"y_train : \", y_train.shape)\n",
    "print(\"X_test : \", X_test.shape)\n",
    "print(\"y_test : \", y_test.shape)"
   ]
  },
  {
   "cell_type": "code",
   "execution_count": 345,
   "id": "efa866b1",
   "metadata": {},
   "outputs": [],
   "source": [
    "# Conversion des variables X_train et y_train en Tensor (permettant la manipulation avec PyTorch)\n",
    "dataset_train = TensorDataset(torch.tensor(X_train, dtype=torch.float32), torch.tensor(y_train, dtype=torch.float32))\n",
    "\n",
    "# Conversion des variables X_test et y_test en Tensor (permettant la manipulation avec PyTorch)\n",
    "dataset_test = TensorDataset(torch.tensor(X_test, dtype=torch.float32), torch.tensor(y_test, dtype=torch.float32))"
   ]
  },
  {
   "cell_type": "code",
   "execution_count": 346,
   "id": "0090d64a",
   "metadata": {},
   "outputs": [
    {
     "name": "stdout",
     "output_type": "stream",
     "text": [
      "dataset_train :  <torch.utils.data.dataset.TensorDataset object at 0x0000029FE4FF93A0>\n",
      "dataset_test :  <torch.utils.data.dataset.TensorDataset object at 0x0000029FE1C293D0>\n"
     ]
    }
   ],
   "source": [
    "print(\"dataset_train : \", dataset_train)\n",
    "print(\"dataset_test : \", dataset_test)"
   ]
  },
  {
   "cell_type": "code",
   "execution_count": 347,
   "id": "03c4b49a",
   "metadata": {},
   "outputs": [],
   "source": [
    "# Chargement des données avec DataLoader\n",
    "\n",
    "# nombre d'échantillons inclus à chaque itération\n",
    "batch_size = 32\n",
    "# randomisation des données lors des itérations\n",
    "shuffle = True\n",
    "\n",
    "# Création des DataLoaders d'entrainement et de test\n",
    "dataloader_train = DataLoader(dataset_train, batch_size=batch_size, shuffle=shuffle)\n",
    "dataloader_test = DataLoader(dataset_test, batch_size=batch_size)"
   ]
  },
  {
   "cell_type": "code",
   "execution_count": null,
   "id": "45b6b225",
   "metadata": {},
   "outputs": [],
   "source": [
    "# Conception du modèle de réseaux de neurones\n",
    "class ChurnModel(nn.Module):\n",
    "    def __init__(self, input_dim):\n",
    "        super(ChurnModel, self).__init__()\n",
    "        self.model = nn.Sequential(\n",
    "            nn.Linear(input_dim, 64),\n",
    "            nn.ReLU(),\n",
    "            nn.Dropout(0.3),\n",
    "            nn.Linear(64, 32),\n",
    "            nn.ReLU(),\n",
    "            nn.Dropout(0.3),\n",
    "            nn.Linear(32, 1),\n",
    "            nn.Sigmoid()\n",
    "        )\n",
    "\n",
    "    def forward(self, x):\n",
    "        return self.model(x)\n",
    "\n",
    "model = ChurnModel(input_dim=X.shape[1])"
   ]
  },
  {
   "cell_type": "code",
   "execution_count": 352,
   "id": "e522e668",
   "metadata": {},
   "outputs": [
    {
     "name": "stdout",
     "output_type": "stream",
     "text": [
      "Epoch 1/100, Loss: 100.5938\n",
      "Epoch 2/100, Loss: 100.6849\n",
      "Epoch 3/100, Loss: 100.1459\n",
      "Epoch 4/100, Loss: 99.0366\n",
      "Epoch 5/100, Loss: 99.3744\n",
      "Epoch 6/100, Loss: 98.4211\n",
      "Epoch 7/100, Loss: 98.3987\n",
      "Epoch 8/100, Loss: 96.6351\n",
      "Epoch 9/100, Loss: 95.4372\n",
      "Epoch 10/100, Loss: 93.8139\n",
      "Epoch 11/100, Loss: 92.5172\n",
      "Epoch 12/100, Loss: 91.3028\n",
      "Epoch 13/100, Loss: 90.0229\n",
      "Epoch 14/100, Loss: 89.6143\n",
      "Epoch 15/100, Loss: 90.1965\n",
      "Epoch 16/100, Loss: 88.2259\n",
      "Epoch 17/100, Loss: 87.4939\n",
      "Epoch 18/100, Loss: 86.2510\n",
      "Epoch 19/100, Loss: 84.5123\n",
      "Epoch 20/100, Loss: 84.0996\n",
      "Epoch 21/100, Loss: 84.3595\n",
      "Epoch 22/100, Loss: 82.6695\n",
      "Epoch 23/100, Loss: 82.7692\n",
      "Epoch 24/100, Loss: 81.7379\n",
      "Epoch 25/100, Loss: 82.1747\n",
      "Epoch 26/100, Loss: 80.4416\n",
      "Epoch 27/100, Loss: 79.8318\n",
      "Epoch 28/100, Loss: 79.8604\n",
      "Epoch 29/100, Loss: 79.8298\n",
      "Epoch 30/100, Loss: 80.0217\n",
      "Epoch 31/100, Loss: 79.9551\n",
      "Epoch 32/100, Loss: 79.6167\n",
      "Epoch 33/100, Loss: 79.3161\n",
      "Epoch 34/100, Loss: 79.1200\n",
      "Epoch 35/100, Loss: 78.5106\n",
      "Epoch 36/100, Loss: 79.3502\n",
      "Epoch 37/100, Loss: 79.2257\n",
      "Epoch 38/100, Loss: 79.8580\n",
      "Epoch 39/100, Loss: 79.3285\n",
      "Epoch 40/100, Loss: 78.9456\n",
      "Epoch 41/100, Loss: 78.0474\n",
      "Epoch 42/100, Loss: 77.9085\n",
      "Epoch 43/100, Loss: 78.2410\n",
      "Epoch 44/100, Loss: 78.1026\n",
      "Epoch 45/100, Loss: 78.6520\n",
      "Epoch 46/100, Loss: 78.2741\n",
      "Epoch 47/100, Loss: 78.9792\n",
      "Epoch 48/100, Loss: 77.6066\n",
      "Epoch 49/100, Loss: 78.9908\n",
      "Epoch 50/100, Loss: 78.5956\n",
      "Epoch 51/100, Loss: 77.3879\n",
      "Epoch 52/100, Loss: 78.9600\n",
      "Epoch 53/100, Loss: 78.1426\n",
      "Epoch 54/100, Loss: 78.9885\n",
      "Epoch 55/100, Loss: 77.8991\n",
      "Epoch 56/100, Loss: 77.9963\n",
      "Epoch 57/100, Loss: 76.3936\n",
      "Epoch 58/100, Loss: 78.2767\n",
      "Epoch 59/100, Loss: 76.9434\n",
      "Epoch 60/100, Loss: 76.9561\n",
      "Epoch 61/100, Loss: 78.7877\n",
      "Epoch 62/100, Loss: 77.8851\n",
      "Epoch 63/100, Loss: 78.5272\n",
      "Epoch 64/100, Loss: 77.2829\n",
      "Epoch 65/100, Loss: 76.7287\n",
      "Epoch 66/100, Loss: 77.9538\n",
      "Epoch 67/100, Loss: 77.1052\n",
      "Epoch 68/100, Loss: 78.1785\n",
      "Epoch 69/100, Loss: 77.2049\n",
      "Epoch 70/100, Loss: 76.8113\n",
      "Epoch 71/100, Loss: 77.1983\n",
      "Epoch 72/100, Loss: 78.0451\n",
      "Epoch 73/100, Loss: 78.1480\n",
      "Epoch 74/100, Loss: 76.5193\n",
      "Epoch 75/100, Loss: 77.5592\n",
      "Epoch 76/100, Loss: 77.3468\n",
      "Epoch 77/100, Loss: 76.4494\n",
      "Epoch 78/100, Loss: 75.9438\n",
      "Epoch 79/100, Loss: 76.7842\n",
      "Epoch 80/100, Loss: 78.3314\n",
      "Epoch 81/100, Loss: 77.5134\n",
      "Epoch 82/100, Loss: 77.4392\n",
      "Epoch 83/100, Loss: 76.8739\n",
      "Epoch 84/100, Loss: 76.1836\n",
      "Epoch 85/100, Loss: 76.8217\n",
      "Epoch 86/100, Loss: 76.9137\n",
      "Epoch 87/100, Loss: 77.2222\n",
      "Epoch 88/100, Loss: 78.6752\n",
      "Epoch 89/100, Loss: 76.8629\n",
      "Epoch 90/100, Loss: 77.0237\n",
      "Epoch 91/100, Loss: 76.6175\n",
      "Epoch 92/100, Loss: 77.7707\n",
      "Epoch 93/100, Loss: 78.3559\n",
      "Epoch 94/100, Loss: 78.3269\n",
      "Epoch 95/100, Loss: 77.1484\n",
      "Epoch 96/100, Loss: 77.5633\n",
      "Epoch 97/100, Loss: 77.4272\n",
      "Epoch 98/100, Loss: 77.0063\n",
      "Epoch 99/100, Loss: 76.7704\n",
      "Epoch 100/100, Loss: 76.6017\n"
     ]
    }
   ],
   "source": [
    "# Entrainement du modèle\n",
    "\n",
    "criterion = nn.BCELoss()\n",
    "optimizer = optim.Adam(model.parameters(), lr=0.001)\n",
    "\n",
    "n_epochs = 100\n",
    "for epoch in range(n_epochs):\n",
    "    model.train()\n",
    "    total_loss = 0\n",
    "    for X_batch, y_batch in dataloader_train:\n",
    "        optimizer.zero_grad()\n",
    "\n",
    "        y_batch = y_batch.float()\n",
    "        outputs = model(X_batch).view(-1)\n",
    "\n",
    "        loss = criterion(outputs, y_batch)\n",
    "        loss.backward()\n",
    "        optimizer.step()\n",
    "        total_loss += loss.item()\n",
    "\n",
    "    print(f\"Epoch {epoch+1}/{n_epochs}, Loss: {total_loss:.4f}\")"
   ]
  },
  {
   "cell_type": "markdown",
   "id": "b2e6f6de",
   "metadata": {},
   "source": [
    "## Evaluation du modèle"
   ]
  },
  {
   "cell_type": "code",
   "execution_count": 350,
   "id": "f487bfff",
   "metadata": {},
   "outputs": [],
   "source": [
    "from sklearn.metrics import accuracy_score, confusion_matrix, classification_report"
   ]
  },
  {
   "cell_type": "code",
   "execution_count": 356,
   "id": "f97f006f",
   "metadata": {},
   "outputs": [],
   "source": [
    "# Evaluation du modèle\n",
    "model.eval()\n",
    "y_pred = []\n",
    "y_true = []\n",
    "\n",
    "with torch.no_grad():\n",
    "    for X_batch, y_batch in dataloader_test:\n",
    "        outputs = model(X_batch).view(-1)\n",
    "        preds = (outputs >= 0.5).int()\n",
    "        y_pred.extend(preds.numpy())\n",
    "        y_true.extend(y_batch.numpy())\n",
    "\n",
    "acc = accuracy_score(y_true, y_pred)\n",
    "cm = confusion_matrix(y_true, y_pred)\n",
    "\n"
   ]
  },
  {
   "cell_type": "code",
   "execution_count": 357,
   "id": "2c6c8912",
   "metadata": {},
   "outputs": [
    {
     "name": "stdout",
     "output_type": "stream",
     "text": [
      "              precision    recall  f1-score   support\n",
      "\n",
      "         0.0       0.83      0.88      0.85      1033\n",
      "         1.0       0.60      0.49      0.54       374\n",
      "\n",
      "    accuracy                           0.78      1407\n",
      "   macro avg       0.71      0.69      0.70      1407\n",
      "weighted avg       0.77      0.78      0.77      1407\n",
      "\n",
      "Confusion Matrix:\n",
      "[[913 120]\n",
      " [192 182]]\n"
     ]
    }
   ],
   "source": [
    "# Visualisation\n",
    "print(classification_report(y_true, y_pred))\n",
    "print(\"Confusion Matrix:\")\n",
    "print(cm)"
   ]
  }
 ],
 "metadata": {
  "kernelspec": {
   "display_name": ".venv",
   "language": "python",
   "name": "python3"
  },
  "language_info": {
   "codemirror_mode": {
    "name": "ipython",
    "version": 3
   },
   "file_extension": ".py",
   "mimetype": "text/x-python",
   "name": "python",
   "nbconvert_exporter": "python",
   "pygments_lexer": "ipython3",
   "version": "3.12.8"
  }
 },
 "nbformat": 4,
 "nbformat_minor": 5
}
